{
 "cells": [
  {
   "cell_type": "markdown",
   "metadata": {},
   "source": [
    "# CCTV Cross-Camera Person Tracking and Analysis\n",
    "# ============================================\n",
    "\n",
    "This notebook implements cross-camera person tracking and re-identification using:\n",
    "\n",
    "- YOLOX for person detection\n",
    "- ByteTracker for single-camera tracking\n",
    "- Deep Person ReID for cross-camera person re-identification\n",
    "- InsightFace for demographic analysis"
   ]
  },
  {
   "cell_type": "markdown",
   "metadata": {},
   "source": [
    "## Setup and Imports"
   ]
  },
  {
   "cell_type": "code",
   "execution_count": 1,
   "metadata": {},
   "outputs": [],
   "source": [
    "import os\n",
    "import sys\n",
    "from pathlib import Path\n",
    "import logging\n",
    "from datetime import datetime\n",
    "import numpy as np\n",
    "import cv2\n",
    "import torch\n",
    "import pandas as pd\n",
    "from tqdm.notebook import tqdm\n",
    "import matplotlib.pyplot as plt\n",
    "from torchvision.transforms import transforms\n",
    "import wget"
   ]
  },
  {
   "cell_type": "code",
   "execution_count": 5,
   "metadata": {},
   "outputs": [
    {
     "ename": "ModuleNotFoundError",
     "evalue": "No module named 'yolox'",
     "output_type": "error",
     "traceback": [
      "\u001b[0;31m---------------------------------------------------------------------------\u001b[0m",
      "\u001b[0;31mModuleNotFoundError\u001b[0m                       Traceback (most recent call last)",
      "Cell \u001b[0;32mIn[5], line 2\u001b[0m\n\u001b[1;32m      1\u001b[0m \u001b[38;5;66;03m# YOLOX and ByteTracker imports\u001b[39;00m\n\u001b[0;32m----> 2\u001b[0m \u001b[38;5;28;01mfrom\u001b[39;00m \u001b[38;5;21;01myolox\u001b[39;00m\u001b[38;5;21;01m.\u001b[39;00m\u001b[38;5;21;01mtracker\u001b[39;00m\u001b[38;5;21;01m.\u001b[39;00m\u001b[38;5;21;01mbyte_tracker\u001b[39;00m \u001b[38;5;28;01mimport\u001b[39;00m BYTETracker\n\u001b[1;32m      3\u001b[0m \u001b[38;5;28;01mfrom\u001b[39;00m \u001b[38;5;21;01myolox\u001b[39;00m\u001b[38;5;21;01m.\u001b[39;00m\u001b[38;5;21;01mexp\u001b[39;00m \u001b[38;5;28;01mimport\u001b[39;00m get_exp\n",
      "\u001b[0;31mModuleNotFoundError\u001b[0m: No module named 'yolox'"
     ]
    }
   ],
   "source": [
    "# YOLOX and ByteTracker imports\n",
    "from yolox.tracker.byte_tracker import BYTETracker\n",
    "from yolox.exp import get_exp"
   ]
  },
  {
   "cell_type": "code",
   "execution_count": 6,
   "metadata": {},
   "outputs": [
    {
     "name": "stderr",
     "output_type": "stream",
     "text": [
      "/Users/chenm/GitHub/cctv-analysis/venv/lib/python3.12/site-packages/torchreid/reid/metrics/rank.py:11: UserWarning: Cython evaluation (very fast so highly recommended) is unavailable, now use python evaluation.\n",
      "  warnings.warn(\n"
     ]
    }
   ],
   "source": [
    "# Deep Person ReID imports\n",
    "import torchreid\n",
    "from torchreid import models\n",
    "from torchreid import utils"
   ]
  },
  {
   "cell_type": "code",
   "execution_count": 7,
   "metadata": {},
   "outputs": [
    {
     "ename": "ModuleNotFoundError",
     "evalue": "No module named 'insightface'",
     "output_type": "error",
     "traceback": [
      "\u001b[0;31m---------------------------------------------------------------------------\u001b[0m",
      "\u001b[0;31mModuleNotFoundError\u001b[0m                       Traceback (most recent call last)",
      "Cell \u001b[0;32mIn[7], line 2\u001b[0m\n\u001b[1;32m      1\u001b[0m \u001b[38;5;66;03m# Demographic analysis (using InsightFace)\u001b[39;00m\n\u001b[0;32m----> 2\u001b[0m \u001b[38;5;28;01mfrom\u001b[39;00m \u001b[38;5;21;01minsightface\u001b[39;00m\u001b[38;5;21;01m.\u001b[39;00m\u001b[38;5;21;01mapp\u001b[39;00m \u001b[38;5;28;01mimport\u001b[39;00m FaceAnalysis\n",
      "\u001b[0;31mModuleNotFoundError\u001b[0m: No module named 'insightface'"
     ]
    }
   ],
   "source": [
    "# Demographic analysis (using InsightFace)\n",
    "from insightface.app import FaceAnalysis"
   ]
  },
  {
   "cell_type": "markdown",
   "metadata": {},
   "source": [
    "## Configuration"
   ]
  },
  {
   "cell_type": "code",
   "execution_count": null,
   "metadata": {},
   "outputs": [
    {
     "data": {
      "text/plain": [
       "'yolox_x.pth'"
      ]
     },
     "execution_count": 14,
     "metadata": {},
     "output_type": "execute_result"
    }
   ],
   "source": [
    "# YOLOX weights\n",
    "model_folder_path = os.path.join(\"..\", \"models\")\n",
    "\n",
    "# Create model folder if it doesn't exist\n",
    "Path(model_folder_path).mkdir(parents=True, exist_ok=True)\n",
    "os.chdir(model_folder_path)\n",
    "\n",
    "# Download YOLOX weights (choose one based on your needs)\n",
    "wget.download(\n",
    "    \"https://github.com/Megvii-BaseDetection/YOLOX/releases/download/0.1.1rc0/yolox_s.pth\")\n",
    "\n",
    "wget.download(\n",
    "    \"https://github.com/Megvii-BaseDetection/YOLOX/releases/download/0.1.1rc0/yolox_m.pth\")\n",
    "\n",
    "wget.download(\n",
    "    \"https://github.com/Megvii-BaseDetection/YOLOX/releases/download/0.1.1rc0/yolox_l.pth\")\n",
    "\n",
    "wget.download(\n",
    "    \"https://github.com/Megvii-BaseDetection/YOLOX/releases/download/0.1.1rc0/yolox_x.pth\")"
   ]
  },
  {
   "cell_type": "code",
   "execution_count": 9,
   "metadata": {},
   "outputs": [
    {
     "name": "stdout",
     "output_type": "stream",
     "text": [
      "* url=\"https://drive.google.com/uc?id=1vduhq5DpN2q1g4fYEZfPI17MJeh9qyrA\"\n",
      "* destination=\"osnet_x1_0_market_256x128_amsgrad_ep150_stp60_lr0.0015_b64_fb10_softmax_labelsmooth_flip.pth\"\n",
      "...100%, 9 MB, 13220 KB/s, 0 seconds passed\n"
     ]
    }
   ],
   "source": [
    "# Then download the weights using torchreid's model zoo\n",
    "import torchreid\n",
    "# OSNet weights\n",
    "torchreid.utils.download_url(\n",
    "    'https://drive.google.com/uc?id=1vduhq5DpN2q1g4fYEZfPI17MJeh9qyrA',\n",
    "    'osnet_x1_0_market_256x128_amsgrad_ep150_stp60_lr0.0015_b64_fb10_softmax_labelsmooth_flip.pth'\n",
    ")"
   ]
  },
  {
   "cell_type": "code",
   "execution_count": null,
   "metadata": {},
   "outputs": [],
   "source": [
    "def download_if_not_exists(url, output_path):\n",
    "    if not os.path.exists(output_path):\n",
    "        print(f\"Downloading {output_path}...\")\n",
    "        wget.download(url, output_path)\n",
    "        print(\"\\nDownload complete!\")\n",
    "    else:\n",
    "        print(f\"{output_path} already exists.\")"
   ]
  },
  {
   "cell_type": "code",
   "execution_count": null,
   "metadata": {},
   "outputs": [
    {
     "ename": "NameError",
     "evalue": "name 'os' is not defined",
     "output_type": "error",
     "traceback": [
      "\u001b[0;31m---------------------------------------------------------------------------\u001b[0m",
      "\u001b[0;31mNameError\u001b[0m                                 Traceback (most recent call last)",
      "Cell \u001b[0;32mIn[2], line 3\u001b[0m\n\u001b[1;32m      1\u001b[0m \u001b[38;5;66;03m# Download YOLOX-L weights\u001b[39;00m\n\u001b[1;32m      2\u001b[0m yolox_l_url \u001b[38;5;241m=\u001b[39m \u001b[38;5;124m\"\u001b[39m\u001b[38;5;124mhttps://github.com/Megvii-BaseDetection/YOLOX/releases/download/0.1.1rc0/yolox_l.pth\u001b[39m\u001b[38;5;124m\"\u001b[39m\n\u001b[0;32m----> 3\u001b[0m \u001b[43mdownload_if_not_exists\u001b[49m\u001b[43m(\u001b[49m\u001b[43myolox_l_url\u001b[49m\u001b[43m,\u001b[49m\u001b[43m \u001b[49m\u001b[38;5;124;43m\"\u001b[39;49m\u001b[38;5;124;43mmodels/detection/yolox_l.pth\u001b[39;49m\u001b[38;5;124;43m\"\u001b[39;49m\u001b[43m)\u001b[49m\n",
      "Cell \u001b[0;32mIn[1], line 2\u001b[0m, in \u001b[0;36mdownload_if_not_exists\u001b[0;34m(url, output_path)\u001b[0m\n\u001b[1;32m      1\u001b[0m \u001b[38;5;28;01mdef\u001b[39;00m \u001b[38;5;21mdownload_if_not_exists\u001b[39m(url, output_path):\n\u001b[0;32m----> 2\u001b[0m     \u001b[38;5;28;01mif\u001b[39;00m \u001b[38;5;129;01mnot\u001b[39;00m \u001b[43mos\u001b[49m\u001b[38;5;241m.\u001b[39mpath\u001b[38;5;241m.\u001b[39mexists(output_path):\n\u001b[1;32m      3\u001b[0m         \u001b[38;5;28mprint\u001b[39m(\u001b[38;5;124mf\u001b[39m\u001b[38;5;124m\"\u001b[39m\u001b[38;5;124mDownloading \u001b[39m\u001b[38;5;132;01m{\u001b[39;00moutput_path\u001b[38;5;132;01m}\u001b[39;00m\u001b[38;5;124m...\u001b[39m\u001b[38;5;124m\"\u001b[39m)\n\u001b[1;32m      4\u001b[0m         wget\u001b[38;5;241m.\u001b[39mdownload(url, output_path)\n",
      "\u001b[0;31mNameError\u001b[0m: name 'os' is not defined"
     ]
    }
   ],
   "source": [
    "# Download YOLOX-L weights\n",
    "yolox_l_url = \"https://github.com/Megvii-BaseDetection/YOLOX/releases/download/0.1.1rc0/yolox_l.pth\"\n",
    "download_if_not_exists(yolox_l_url, \"models/detection/yolox_l.pth\")"
   ]
  },
  {
   "cell_type": "code",
   "execution_count": null,
   "metadata": {},
   "outputs": [],
   "source": [
    "# Uncomment below lines if you want to download larger models\n",
    "\n",
    "# Download YOLOX-S weights (smallest but fastest)\n",
    "# yolox_s_url = \"https://github.com/Megvii-BaseDetection/YOLOX/releases/download/0.1.1rc0/yolox_s.pth\"\n",
    "# download_if_not_exists(yolox_s_url, \"models/detection/yolox_s.pth\")\n",
    "\n",
    "# # Download YOLOX-M weights (medium size)\n",
    "# yolox_m_url = \"https://github.com/Megvii-BaseDetection/YOLOX/releases/download/0.1.1rc0/yolox_m.pth\"\n",
    "# download_if_not_exists(yolox_m_url, \"models/detection/yolox_m.pth\")"
   ]
  },
  {
   "cell_type": "code",
   "execution_count": null,
   "metadata": {},
   "outputs": [],
   "source": [
    "class Config:\n",
    "    # YOLOX Config\n",
    "    YOLOX_EXP_FILE = \"yolox_s\"  # or yolox_m, yolox_l, yolox_x\n",
    "    YOLOX_WEIGHTS = \"yolox_s.pth\"\n",
    "    CONFIDENCE_THRESHOLD = 0.5\n",
    "\n",
    "    # ByteTracker Config\n",
    "    TRACK_BUFFER = 30\n",
    "    TRACK_THRESH = 0.5\n",
    "\n",
    "    # ReID Config\n",
    "    REID_MODEL = 'osnet_x1_0'\n",
    "    REID_WEIGHTS = 'osnet_x1_0_market_256x128_amsgrad_ep150_stp60_lr0.0015_b64_fb10_softmax_labelsmooth_flip.pth'\n",
    "\n",
    "    # Video Processing\n",
    "    BATCH_SIZE = 4\n",
    "    INPUT_SIZE = (608, 1088)  # (height, width)\n",
    "\n",
    "    # Matching Config\n",
    "    MAX_COSINE_DISTANCE = 0.3\n",
    "    # maximum time difference (in seconds) for matching\n",
    "    MAX_TIME_DIFFERENCE = 300"
   ]
  }
 ],
 "metadata": {
  "kernelspec": {
   "display_name": "venv",
   "language": "python",
   "name": "python3"
  },
  "language_info": {
   "codemirror_mode": {
    "name": "ipython",
    "version": 3
   },
   "file_extension": ".py",
   "mimetype": "text/x-python",
   "name": "python",
   "nbconvert_exporter": "python",
   "pygments_lexer": "ipython3",
   "version": "3.12.7"
  }
 },
 "nbformat": 4,
 "nbformat_minor": 2
}
